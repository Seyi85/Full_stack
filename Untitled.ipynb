{
 "cells": [
  {
   "cell_type": "code",
   "execution_count": null,
   "metadata": {},
   "outputs": [],
   "source": [
    "HTML EXERCISES"
   ]
  },
  {
   "cell_type": "code",
   "execution_count": 1,
   "metadata": {},
   "outputs": [
    {
     "ename": "SyntaxError",
     "evalue": "invalid syntax (<ipython-input-1-2b136cc1c546>, line 1)",
     "output_type": "error",
     "traceback": [
      "\u001b[1;36m  File \u001b[1;32m\"<ipython-input-1-2b136cc1c546>\"\u001b[1;36m, line \u001b[1;32m1\u001b[0m\n\u001b[1;33m    <!DOCTYPE html>\u001b[0m\n\u001b[1;37m    ^\u001b[0m\n\u001b[1;31mSyntaxError\u001b[0m\u001b[1;31m:\u001b[0m invalid syntax\n"
     ]
    }
   ],
   "source": [
    "<!DOCTYPE html>\n",
    "<html lang=\"en\">\n",
    "<head>\n",
    "  <title>Title of the document</title>\n",
    "</head>\n",
    "<body>\n",
    "\n",
    "<h1>I am a chemist</h1>\n",
    "<p>I am a chemist.</p>\n",
    "\n",
    "</body>\n",
    "</html>\n",
    "\n",
    "<ol>\n",
    "  <li>Book</li>\n",
    "  <li>Coffee</li>\n",
    "  <li>Cake</li>\n",
    "</ol>\n",
    "\n",
    "<link href=\"https://strive.school\" rel=\"stylesheet\">\n",
    "\n",
    "<ul>\n",
    "  <li>Link 1</li>\n",
    "  <li class=\"home\">Link 2</li>\n",
    "  <li>Link 3</li>\n",
    "</ul> \n",
    "<HR width=\"35%\"color=\"#0000EE\"size=\"10\"\n",
    "<footer>\n",
    "  <p>Author: Hege Refsnes</p>\n",
    "  <p><a href=\"mailto:hege@example.com\">hege@example.com</a></p>\n",
    "</footer>"
   ]
  },
  {
   "cell_type": "code",
   "execution_count": null,
   "metadata": {},
   "outputs": [],
   "source": [
    "<!DOCTYPE html>\n",
    "<head>\n",
    "    <meta charset=\"utf-8\">\n",
    "    <meta name=\"viewport\" content=\"width=device-width, initial-scale=1, shrink-to-fit=no\">\n",
    "    <title>contact form</title>\n",
    "</head>\n",
    "\n",
    "<body>\n",
    "\n",
    "<link href=\"contact-form.css\" rel=\"stylesheet\">\n",
    "\n",
    "<div class=\"fcf-body\">\n",
    "\n",
    "    <div id=\"fcf-form\">\n",
    "    <h3 class=\"fcf-h3\">Contact us</h3>\n",
    "\n",
    "    <form id=\"fcf-form-id\" class=\"fcf-form-class\" method=\"post\" action=\"contact-form-process.php\">\n",
    "        \n",
    "        <div class=\"fcf-form-group\">\n",
    "            <label for=\"Name\" class=\"fcf-label\">Your name</label>\n",
    "            <div class=\"fcf-input-group\">\n",
    "                <input type=\"text\" id=\"Name\" name=\"Name\" class=\"fcf-form-control\" required>\n",
    "            </div>\n",
    "        </div>\n",
    "\n",
    "        <div class=\"fcf-form-group\">\n",
    "            <label for=\"Email\" class=\"fcf-label\">Your email address</label>\n",
    "            <div class=\"fcf-input-group\">\n",
    "                <input type=\"email\" id=\"Email\" name=\"Email\" class=\"fcf-form-control\" required>\n",
    "            </div>\n",
    "        </div>\n",
    "        <div class=\"fcf-form-group\">\n",
    "            <label for=\"Message\" class=\"fcf-label\">Your message</label>\n",
    "            <div class=\"fcf-input-group\">\n",
    "                <textarea id=\"Message\" name=\"Message\" class=\"fcf-form-control\" rows=\"6\" maxlength=\"3000\" required></textarea>\n",
    "            </div>\n",
    "        </div>\n",
    "\n",
    "        <div class=\"fcf-form-group\">\n",
    "            <button type=\"submit\" id=\"fcf-button\" class=\"fcf-btn fcf-btn-primary fcf-btn-lg fcf-btn-block\">Send Message</button>\n",
    "        </div>\n",
    "\n",
    "        <div class=\"fcf-credit\" id=\"fcf-credit\">\n",
    "        Simple HTML email form provided by: <a href=\"https://www.freecontactform.com\" target=\"_blank\">FreeContactForm.com</a>\n",
    "        </div>\n",
    "\n",
    "    </form>\n",
    "    </div>\n",
    "\n",
    "</div>\n",
    "\n",
    "</body>\n",
    "</html>"
   ]
  },
  {
   "cell_type": "code",
   "execution_count": null,
   "metadata": {},
   "outputs": [],
   "source": [
    "CSS Exercise"
   ]
  },
  {
   "cell_type": "code",
   "execution_count": null,
   "metadata": {},
   "outputs": [],
   "source": []
  }
 ],
 "metadata": {
  "kernelspec": {
   "display_name": "Python 3",
   "language": "python",
   "name": "python3"
  },
  "language_info": {
   "codemirror_mode": {
    "name": "ipython",
    "version": 3
   },
   "file_extension": ".py",
   "mimetype": "text/x-python",
   "name": "python",
   "nbconvert_exporter": "python",
   "pygments_lexer": "ipython3",
   "version": "3.8.3"
  }
 },
 "nbformat": 4,
 "nbformat_minor": 4
}
